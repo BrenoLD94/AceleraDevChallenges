{
 "cells": [
  {
   "cell_type": "code",
   "execution_count": 1,
   "metadata": {},
   "outputs": [],
   "source": [
    "import pandas as pd\n",
    "import numpy as np\n",
    "import matplotlib.pyplot as plt\n",
    "\n",
    "from sklearn.feature_selection import SelectKBest\n",
    "from sklearn.feature_selection import f_regression\n",
    "from sklearn.model_selection import train_test_split\n",
    "from sklearn.neural_network import MLPRegressor\n",
    "from sklearn.preprocessing import RobustScaler\n",
    "from sklearn.metrics import r2_score\n",
    "from seaborn import residplot\n",
    "\n",
    "import warnings\n",
    "\n",
    "warnings.filterwarnings('ignore')"
   ]
  },
  {
   "cell_type": "code",
   "execution_count": 2,
   "metadata": {},
   "outputs": [],
   "source": [
    "def trataColunaTP_status(x):\n",
    "    if (x == 1):\n",
    "        return 1\n",
    "    else:\n",
    "        return 0\n",
    "    \n",
    "def verificaValoresNan(data):\n",
    "    missingValues = data.isna().sum().sort_values(ascending=False)\n",
    "    dfMissingValues = pd.DataFrame({\"NumValorMissing\": missingValues,\n",
    "                                \"PorcentagemValorMissing(%)\": (round((missingValues/data.shape[0])*100, 2))})\n",
    "\n",
    "    dfMissingValues = dfMissingValues[dfMissingValues[\"PorcentagemValorMissing(%)\"] > 0]\n",
    "    \n",
    "    return dfMissingValues\n",
    "\n",
    "def binarizeIdade(x):\n",
    "    if x < 18:\n",
    "        return 0\n",
    "    else:\n",
    "        return 1"
   ]
  },
  {
   "cell_type": "code",
   "execution_count": 3,
   "metadata": {},
   "outputs": [],
   "source": [
    "dadosTreino = pd.read_csv(\"./train.csv\")\n",
    "dadosTreino.drop([\"Unnamed: 0\"], axis = 1, inplace=True)\n",
    "\n",
    "dadosTeste = pd.read_csv(\"./test.csv\")"
   ]
  },
  {
   "cell_type": "code",
   "execution_count": 4,
   "metadata": {},
   "outputs": [
    {
     "name": "stdout",
     "output_type": "stream",
     "text": [
      "Dados de treino (13730, 166)\n",
      "Dados de teste (4576, 47)\n"
     ]
    }
   ],
   "source": [
    "print(\"Dados de treino {}\".format(dadosTreino.shape))\n",
    "print(\"Dados de teste {}\".format(dadosTeste.shape))"
   ]
  },
  {
   "cell_type": "code",
   "execution_count": 5,
   "metadata": {},
   "outputs": [],
   "source": [
    "dadosTreino2 = dadosTreino.loc[:, dadosTeste.columns]  \n",
    "dadosTreino2[\"NU_NOTA_MT\"] = dadosTreino[\"NU_NOTA_MT\"]"
   ]
  },
  {
   "cell_type": "code",
   "execution_count": 6,
   "metadata": {},
   "outputs": [
    {
     "data": {
      "text/plain": [
       "(13730, 48)"
      ]
     },
     "execution_count": 6,
     "metadata": {},
     "output_type": "execute_result"
    }
   ],
   "source": [
    "dadosTreino2.shape"
   ]
  },
  {
   "cell_type": "code",
   "execution_count": 7,
   "metadata": {},
   "outputs": [
    {
     "name": "stdout",
     "output_type": "stream",
     "text": [
      "<class 'pandas.core.frame.DataFrame'>\n",
      "RangeIndex: 13730 entries, 0 to 13729\n",
      "Data columns (total 48 columns):\n",
      "NU_INSCRICAO              13730 non-null object\n",
      "CO_UF_RESIDENCIA          13730 non-null int64\n",
      "SG_UF_RESIDENCIA          13730 non-null object\n",
      "NU_IDADE                  13730 non-null int64\n",
      "TP_SEXO                   13730 non-null object\n",
      "TP_COR_RACA               13730 non-null int64\n",
      "TP_NACIONALIDADE          13730 non-null int64\n",
      "TP_ST_CONCLUSAO           13730 non-null int64\n",
      "TP_ANO_CONCLUIU           13730 non-null int64\n",
      "TP_ESCOLA                 13730 non-null int64\n",
      "TP_ENSINO                 4282 non-null float64\n",
      "IN_TREINEIRO              13730 non-null int64\n",
      "TP_DEPENDENCIA_ADM_ESC    4282 non-null float64\n",
      "IN_BAIXA_VISAO            13730 non-null int64\n",
      "IN_CEGUEIRA               13730 non-null int64\n",
      "IN_SURDEZ                 13730 non-null int64\n",
      "IN_DISLEXIA               13730 non-null int64\n",
      "IN_DISCALCULIA            13730 non-null int64\n",
      "IN_SABATISTA              13730 non-null int64\n",
      "IN_GESTANTE               13730 non-null int64\n",
      "IN_IDOSO                  13730 non-null int64\n",
      "TP_PRESENCA_CN            13730 non-null int64\n",
      "TP_PRESENCA_CH            13730 non-null int64\n",
      "TP_PRESENCA_LC            13730 non-null int64\n",
      "CO_PROVA_CN               13730 non-null object\n",
      "CO_PROVA_CH               13730 non-null object\n",
      "CO_PROVA_LC               13730 non-null object\n",
      "CO_PROVA_MT               13730 non-null object\n",
      "NU_NOTA_CN                10341 non-null float64\n",
      "NU_NOTA_CH                10341 non-null float64\n",
      "NU_NOTA_LC                10133 non-null float64\n",
      "TP_LINGUA                 13730 non-null int64\n",
      "TP_STATUS_REDACAO         10133 non-null float64\n",
      "NU_NOTA_COMP1             10133 non-null float64\n",
      "NU_NOTA_COMP2             10133 non-null float64\n",
      "NU_NOTA_COMP3             10133 non-null float64\n",
      "NU_NOTA_COMP4             10133 non-null float64\n",
      "NU_NOTA_COMP5             10133 non-null float64\n",
      "NU_NOTA_REDACAO           10133 non-null float64\n",
      "Q001                      13730 non-null object\n",
      "Q002                      13730 non-null object\n",
      "Q006                      13730 non-null object\n",
      "Q024                      13730 non-null object\n",
      "Q025                      13730 non-null object\n",
      "Q026                      13730 non-null object\n",
      "Q027                      6357 non-null object\n",
      "Q047                      13730 non-null object\n",
      "NU_NOTA_MT                10133 non-null float64\n",
      "dtypes: float64(13), int64(20), object(15)\n",
      "memory usage: 5.0+ MB\n"
     ]
    }
   ],
   "source": [
    "dadosTreino2.info()"
   ]
  },
  {
   "cell_type": "code",
   "execution_count": 8,
   "metadata": {},
   "outputs": [
    {
     "data": {
      "text/html": [
       "<div>\n",
       "<style scoped>\n",
       "    .dataframe tbody tr th:only-of-type {\n",
       "        vertical-align: middle;\n",
       "    }\n",
       "\n",
       "    .dataframe tbody tr th {\n",
       "        vertical-align: top;\n",
       "    }\n",
       "\n",
       "    .dataframe thead th {\n",
       "        text-align: right;\n",
       "    }\n",
       "</style>\n",
       "<table border=\"1\" class=\"dataframe\">\n",
       "  <thead>\n",
       "    <tr style=\"text-align: right;\">\n",
       "      <th></th>\n",
       "      <th>CO_UF_RESIDENCIA</th>\n",
       "      <th>NU_IDADE</th>\n",
       "      <th>TP_COR_RACA</th>\n",
       "      <th>TP_NACIONALIDADE</th>\n",
       "      <th>TP_ST_CONCLUSAO</th>\n",
       "      <th>TP_ANO_CONCLUIU</th>\n",
       "      <th>TP_ESCOLA</th>\n",
       "      <th>TP_ENSINO</th>\n",
       "      <th>IN_TREINEIRO</th>\n",
       "      <th>TP_DEPENDENCIA_ADM_ESC</th>\n",
       "      <th>...</th>\n",
       "      <th>NU_NOTA_LC</th>\n",
       "      <th>TP_LINGUA</th>\n",
       "      <th>TP_STATUS_REDACAO</th>\n",
       "      <th>NU_NOTA_COMP1</th>\n",
       "      <th>NU_NOTA_COMP2</th>\n",
       "      <th>NU_NOTA_COMP3</th>\n",
       "      <th>NU_NOTA_COMP4</th>\n",
       "      <th>NU_NOTA_COMP5</th>\n",
       "      <th>NU_NOTA_REDACAO</th>\n",
       "      <th>NU_NOTA_MT</th>\n",
       "    </tr>\n",
       "  </thead>\n",
       "  <tbody>\n",
       "    <tr>\n",
       "      <th>count</th>\n",
       "      <td>13730.000000</td>\n",
       "      <td>13730.000000</td>\n",
       "      <td>13730.000000</td>\n",
       "      <td>13730.000000</td>\n",
       "      <td>13730.000000</td>\n",
       "      <td>13730.000000</td>\n",
       "      <td>13730.000000</td>\n",
       "      <td>4282.000000</td>\n",
       "      <td>13730.000000</td>\n",
       "      <td>4282.000000</td>\n",
       "      <td>...</td>\n",
       "      <td>10133.000000</td>\n",
       "      <td>13730.000000</td>\n",
       "      <td>10133.000000</td>\n",
       "      <td>10133.000000</td>\n",
       "      <td>10133.000000</td>\n",
       "      <td>10133.000000</td>\n",
       "      <td>10133.000000</td>\n",
       "      <td>10133.000000</td>\n",
       "      <td>10133.000000</td>\n",
       "      <td>10133.000000</td>\n",
       "    </tr>\n",
       "    <tr>\n",
       "      <th>mean</th>\n",
       "      <td>30.736708</td>\n",
       "      <td>21.593809</td>\n",
       "      <td>2.185652</td>\n",
       "      <td>1.048871</td>\n",
       "      <td>1.782666</td>\n",
       "      <td>2.146176</td>\n",
       "      <td>1.353532</td>\n",
       "      <td>1.178888</td>\n",
       "      <td>0.129862</td>\n",
       "      <td>2.259692</td>\n",
       "      <td>...</td>\n",
       "      <td>516.472841</td>\n",
       "      <td>0.593664</td>\n",
       "      <td>1.101747</td>\n",
       "      <td>119.811704</td>\n",
       "      <td>111.915918</td>\n",
       "      <td>106.824238</td>\n",
       "      <td>113.123951</td>\n",
       "      <td>77.372446</td>\n",
       "      <td>529.048258</td>\n",
       "      <td>482.497928</td>\n",
       "    </tr>\n",
       "    <tr>\n",
       "      <th>std</th>\n",
       "      <td>9.862405</td>\n",
       "      <td>7.043654</td>\n",
       "      <td>1.007285</td>\n",
       "      <td>0.258895</td>\n",
       "      <td>0.880734</td>\n",
       "      <td>3.217328</td>\n",
       "      <td>0.558472</td>\n",
       "      <td>0.565490</td>\n",
       "      <td>0.336163</td>\n",
       "      <td>0.698586</td>\n",
       "      <td>...</td>\n",
       "      <td>68.688190</td>\n",
       "      <td>0.491167</td>\n",
       "      <td>0.700100</td>\n",
       "      <td>29.846017</td>\n",
       "      <td>33.737588</td>\n",
       "      <td>34.341349</td>\n",
       "      <td>33.480033</td>\n",
       "      <td>43.067140</td>\n",
       "      <td>154.294758</td>\n",
       "      <td>99.826323</td>\n",
       "    </tr>\n",
       "    <tr>\n",
       "      <th>min</th>\n",
       "      <td>11.000000</td>\n",
       "      <td>13.000000</td>\n",
       "      <td>0.000000</td>\n",
       "      <td>0.000000</td>\n",
       "      <td>1.000000</td>\n",
       "      <td>0.000000</td>\n",
       "      <td>1.000000</td>\n",
       "      <td>1.000000</td>\n",
       "      <td>0.000000</td>\n",
       "      <td>1.000000</td>\n",
       "      <td>...</td>\n",
       "      <td>0.000000</td>\n",
       "      <td>0.000000</td>\n",
       "      <td>1.000000</td>\n",
       "      <td>0.000000</td>\n",
       "      <td>0.000000</td>\n",
       "      <td>0.000000</td>\n",
       "      <td>0.000000</td>\n",
       "      <td>0.000000</td>\n",
       "      <td>0.000000</td>\n",
       "      <td>0.000000</td>\n",
       "    </tr>\n",
       "    <tr>\n",
       "      <th>25%</th>\n",
       "      <td>23.000000</td>\n",
       "      <td>17.000000</td>\n",
       "      <td>1.000000</td>\n",
       "      <td>1.000000</td>\n",
       "      <td>1.000000</td>\n",
       "      <td>0.000000</td>\n",
       "      <td>1.000000</td>\n",
       "      <td>1.000000</td>\n",
       "      <td>0.000000</td>\n",
       "      <td>2.000000</td>\n",
       "      <td>...</td>\n",
       "      <td>468.100000</td>\n",
       "      <td>0.000000</td>\n",
       "      <td>1.000000</td>\n",
       "      <td>120.000000</td>\n",
       "      <td>100.000000</td>\n",
       "      <td>80.000000</td>\n",
       "      <td>100.000000</td>\n",
       "      <td>40.000000</td>\n",
       "      <td>440.000000</td>\n",
       "      <td>408.900000</td>\n",
       "    </tr>\n",
       "    <tr>\n",
       "      <th>50%</th>\n",
       "      <td>31.000000</td>\n",
       "      <td>19.000000</td>\n",
       "      <td>3.000000</td>\n",
       "      <td>1.000000</td>\n",
       "      <td>2.000000</td>\n",
       "      <td>0.000000</td>\n",
       "      <td>1.000000</td>\n",
       "      <td>1.000000</td>\n",
       "      <td>0.000000</td>\n",
       "      <td>2.000000</td>\n",
       "      <td>...</td>\n",
       "      <td>520.900000</td>\n",
       "      <td>1.000000</td>\n",
       "      <td>1.000000</td>\n",
       "      <td>120.000000</td>\n",
       "      <td>120.000000</td>\n",
       "      <td>120.000000</td>\n",
       "      <td>120.000000</td>\n",
       "      <td>80.000000</td>\n",
       "      <td>540.000000</td>\n",
       "      <td>461.200000</td>\n",
       "    </tr>\n",
       "    <tr>\n",
       "      <th>75%</th>\n",
       "      <td>35.000000</td>\n",
       "      <td>23.000000</td>\n",
       "      <td>3.000000</td>\n",
       "      <td>1.000000</td>\n",
       "      <td>2.000000</td>\n",
       "      <td>3.000000</td>\n",
       "      <td>2.000000</td>\n",
       "      <td>1.000000</td>\n",
       "      <td>0.000000</td>\n",
       "      <td>2.000000</td>\n",
       "      <td>...</td>\n",
       "      <td>564.900000</td>\n",
       "      <td>1.000000</td>\n",
       "      <td>1.000000</td>\n",
       "      <td>140.000000</td>\n",
       "      <td>120.000000</td>\n",
       "      <td>120.000000</td>\n",
       "      <td>120.000000</td>\n",
       "      <td>100.000000</td>\n",
       "      <td>600.000000</td>\n",
       "      <td>537.600000</td>\n",
       "    </tr>\n",
       "    <tr>\n",
       "      <th>max</th>\n",
       "      <td>53.000000</td>\n",
       "      <td>67.000000</td>\n",
       "      <td>5.000000</td>\n",
       "      <td>4.000000</td>\n",
       "      <td>4.000000</td>\n",
       "      <td>10.000000</td>\n",
       "      <td>4.000000</td>\n",
       "      <td>3.000000</td>\n",
       "      <td>1.000000</td>\n",
       "      <td>4.000000</td>\n",
       "      <td>...</td>\n",
       "      <td>763.600000</td>\n",
       "      <td>1.000000</td>\n",
       "      <td>9.000000</td>\n",
       "      <td>200.000000</td>\n",
       "      <td>200.000000</td>\n",
       "      <td>200.000000</td>\n",
       "      <td>200.000000</td>\n",
       "      <td>200.000000</td>\n",
       "      <td>1000.000000</td>\n",
       "      <td>952.000000</td>\n",
       "    </tr>\n",
       "  </tbody>\n",
       "</table>\n",
       "<p>8 rows × 33 columns</p>\n",
       "</div>"
      ],
      "text/plain": [
       "       CO_UF_RESIDENCIA      NU_IDADE   TP_COR_RACA  TP_NACIONALIDADE  \\\n",
       "count      13730.000000  13730.000000  13730.000000      13730.000000   \n",
       "mean          30.736708     21.593809      2.185652          1.048871   \n",
       "std            9.862405      7.043654      1.007285          0.258895   \n",
       "min           11.000000     13.000000      0.000000          0.000000   \n",
       "25%           23.000000     17.000000      1.000000          1.000000   \n",
       "50%           31.000000     19.000000      3.000000          1.000000   \n",
       "75%           35.000000     23.000000      3.000000          1.000000   \n",
       "max           53.000000     67.000000      5.000000          4.000000   \n",
       "\n",
       "       TP_ST_CONCLUSAO  TP_ANO_CONCLUIU     TP_ESCOLA    TP_ENSINO  \\\n",
       "count     13730.000000     13730.000000  13730.000000  4282.000000   \n",
       "mean          1.782666         2.146176      1.353532     1.178888   \n",
       "std           0.880734         3.217328      0.558472     0.565490   \n",
       "min           1.000000         0.000000      1.000000     1.000000   \n",
       "25%           1.000000         0.000000      1.000000     1.000000   \n",
       "50%           2.000000         0.000000      1.000000     1.000000   \n",
       "75%           2.000000         3.000000      2.000000     1.000000   \n",
       "max           4.000000        10.000000      4.000000     3.000000   \n",
       "\n",
       "       IN_TREINEIRO  TP_DEPENDENCIA_ADM_ESC  ...    NU_NOTA_LC     TP_LINGUA  \\\n",
       "count  13730.000000             4282.000000  ...  10133.000000  13730.000000   \n",
       "mean       0.129862                2.259692  ...    516.472841      0.593664   \n",
       "std        0.336163                0.698586  ...     68.688190      0.491167   \n",
       "min        0.000000                1.000000  ...      0.000000      0.000000   \n",
       "25%        0.000000                2.000000  ...    468.100000      0.000000   \n",
       "50%        0.000000                2.000000  ...    520.900000      1.000000   \n",
       "75%        0.000000                2.000000  ...    564.900000      1.000000   \n",
       "max        1.000000                4.000000  ...    763.600000      1.000000   \n",
       "\n",
       "       TP_STATUS_REDACAO  NU_NOTA_COMP1  NU_NOTA_COMP2  NU_NOTA_COMP3  \\\n",
       "count       10133.000000   10133.000000   10133.000000   10133.000000   \n",
       "mean            1.101747     119.811704     111.915918     106.824238   \n",
       "std             0.700100      29.846017      33.737588      34.341349   \n",
       "min             1.000000       0.000000       0.000000       0.000000   \n",
       "25%             1.000000     120.000000     100.000000      80.000000   \n",
       "50%             1.000000     120.000000     120.000000     120.000000   \n",
       "75%             1.000000     140.000000     120.000000     120.000000   \n",
       "max             9.000000     200.000000     200.000000     200.000000   \n",
       "\n",
       "       NU_NOTA_COMP4  NU_NOTA_COMP5  NU_NOTA_REDACAO    NU_NOTA_MT  \n",
       "count   10133.000000   10133.000000     10133.000000  10133.000000  \n",
       "mean      113.123951      77.372446       529.048258    482.497928  \n",
       "std        33.480033      43.067140       154.294758     99.826323  \n",
       "min         0.000000       0.000000         0.000000      0.000000  \n",
       "25%       100.000000      40.000000       440.000000    408.900000  \n",
       "50%       120.000000      80.000000       540.000000    461.200000  \n",
       "75%       120.000000     100.000000       600.000000    537.600000  \n",
       "max       200.000000     200.000000      1000.000000    952.000000  \n",
       "\n",
       "[8 rows x 33 columns]"
      ]
     },
     "execution_count": 8,
     "metadata": {},
     "output_type": "execute_result"
    }
   ],
   "source": [
    "dadosTreino2.describe()"
   ]
  },
  {
   "cell_type": "code",
   "execution_count": 9,
   "metadata": {},
   "outputs": [
    {
     "data": {
      "text/html": [
       "<div>\n",
       "<style scoped>\n",
       "    .dataframe tbody tr th:only-of-type {\n",
       "        vertical-align: middle;\n",
       "    }\n",
       "\n",
       "    .dataframe tbody tr th {\n",
       "        vertical-align: top;\n",
       "    }\n",
       "\n",
       "    .dataframe thead th {\n",
       "        text-align: right;\n",
       "    }\n",
       "</style>\n",
       "<table border=\"1\" class=\"dataframe\">\n",
       "  <thead>\n",
       "    <tr style=\"text-align: right;\">\n",
       "      <th></th>\n",
       "      <th>CO_UF_RESIDENCIA</th>\n",
       "      <th>NU_IDADE</th>\n",
       "      <th>TP_COR_RACA</th>\n",
       "      <th>TP_NACIONALIDADE</th>\n",
       "      <th>TP_ST_CONCLUSAO</th>\n",
       "      <th>TP_ANO_CONCLUIU</th>\n",
       "      <th>TP_ESCOLA</th>\n",
       "      <th>TP_ENSINO</th>\n",
       "      <th>IN_TREINEIRO</th>\n",
       "      <th>TP_DEPENDENCIA_ADM_ESC</th>\n",
       "      <th>...</th>\n",
       "      <th>NU_NOTA_CH</th>\n",
       "      <th>NU_NOTA_LC</th>\n",
       "      <th>TP_LINGUA</th>\n",
       "      <th>TP_STATUS_REDACAO</th>\n",
       "      <th>NU_NOTA_COMP1</th>\n",
       "      <th>NU_NOTA_COMP2</th>\n",
       "      <th>NU_NOTA_COMP3</th>\n",
       "      <th>NU_NOTA_COMP4</th>\n",
       "      <th>NU_NOTA_COMP5</th>\n",
       "      <th>NU_NOTA_REDACAO</th>\n",
       "    </tr>\n",
       "  </thead>\n",
       "  <tbody>\n",
       "    <tr>\n",
       "      <th>count</th>\n",
       "      <td>4576.000000</td>\n",
       "      <td>4576.000000</td>\n",
       "      <td>4576.000000</td>\n",
       "      <td>4576.000000</td>\n",
       "      <td>4576.000000</td>\n",
       "      <td>4576.000000</td>\n",
       "      <td>4576.000000</td>\n",
       "      <td>1480.000000</td>\n",
       "      <td>4576.000000</td>\n",
       "      <td>1480.000000</td>\n",
       "      <td>...</td>\n",
       "      <td>3442.000000</td>\n",
       "      <td>3377.000000</td>\n",
       "      <td>4576.000000</td>\n",
       "      <td>3377.000000</td>\n",
       "      <td>3377.000000</td>\n",
       "      <td>3377.000000</td>\n",
       "      <td>3377.000000</td>\n",
       "      <td>3377.000000</td>\n",
       "      <td>3377.000000</td>\n",
       "      <td>3377.000000</td>\n",
       "    </tr>\n",
       "    <tr>\n",
       "      <th>mean</th>\n",
       "      <td>30.762019</td>\n",
       "      <td>21.542395</td>\n",
       "      <td>2.181163</td>\n",
       "      <td>1.060970</td>\n",
       "      <td>1.791084</td>\n",
       "      <td>2.119537</td>\n",
       "      <td>1.368663</td>\n",
       "      <td>1.182432</td>\n",
       "      <td>0.127404</td>\n",
       "      <td>2.264865</td>\n",
       "      <td>...</td>\n",
       "      <td>529.195264</td>\n",
       "      <td>514.304205</td>\n",
       "      <td>0.604458</td>\n",
       "      <td>1.095943</td>\n",
       "      <td>119.626888</td>\n",
       "      <td>111.915902</td>\n",
       "      <td>106.384365</td>\n",
       "      <td>112.881256</td>\n",
       "      <td>76.683447</td>\n",
       "      <td>527.491857</td>\n",
       "    </tr>\n",
       "    <tr>\n",
       "      <th>std</th>\n",
       "      <td>9.912313</td>\n",
       "      <td>6.854073</td>\n",
       "      <td>1.017531</td>\n",
       "      <td>0.281289</td>\n",
       "      <td>0.875692</td>\n",
       "      <td>3.210353</td>\n",
       "      <td>0.568589</td>\n",
       "      <td>0.572495</td>\n",
       "      <td>0.333461</td>\n",
       "      <td>0.716922</td>\n",
       "      <td>...</td>\n",
       "      <td>73.086665</td>\n",
       "      <td>67.725564</td>\n",
       "      <td>0.489020</td>\n",
       "      <td>0.695047</td>\n",
       "      <td>29.028146</td>\n",
       "      <td>33.296849</td>\n",
       "      <td>33.834492</td>\n",
       "      <td>33.202244</td>\n",
       "      <td>42.985637</td>\n",
       "      <td>151.979490</td>\n",
       "    </tr>\n",
       "    <tr>\n",
       "      <th>min</th>\n",
       "      <td>11.000000</td>\n",
       "      <td>14.000000</td>\n",
       "      <td>0.000000</td>\n",
       "      <td>0.000000</td>\n",
       "      <td>1.000000</td>\n",
       "      <td>0.000000</td>\n",
       "      <td>1.000000</td>\n",
       "      <td>1.000000</td>\n",
       "      <td>0.000000</td>\n",
       "      <td>1.000000</td>\n",
       "      <td>...</td>\n",
       "      <td>0.000000</td>\n",
       "      <td>0.000000</td>\n",
       "      <td>0.000000</td>\n",
       "      <td>1.000000</td>\n",
       "      <td>0.000000</td>\n",
       "      <td>0.000000</td>\n",
       "      <td>0.000000</td>\n",
       "      <td>0.000000</td>\n",
       "      <td>0.000000</td>\n",
       "      <td>0.000000</td>\n",
       "    </tr>\n",
       "    <tr>\n",
       "      <th>25%</th>\n",
       "      <td>23.000000</td>\n",
       "      <td>17.000000</td>\n",
       "      <td>1.000000</td>\n",
       "      <td>1.000000</td>\n",
       "      <td>1.000000</td>\n",
       "      <td>0.000000</td>\n",
       "      <td>1.000000</td>\n",
       "      <td>1.000000</td>\n",
       "      <td>0.000000</td>\n",
       "      <td>2.000000</td>\n",
       "      <td>...</td>\n",
       "      <td>479.725000</td>\n",
       "      <td>468.400000</td>\n",
       "      <td>0.000000</td>\n",
       "      <td>1.000000</td>\n",
       "      <td>120.000000</td>\n",
       "      <td>100.000000</td>\n",
       "      <td>80.000000</td>\n",
       "      <td>100.000000</td>\n",
       "      <td>40.000000</td>\n",
       "      <td>440.000000</td>\n",
       "    </tr>\n",
       "    <tr>\n",
       "      <th>50%</th>\n",
       "      <td>31.000000</td>\n",
       "      <td>19.000000</td>\n",
       "      <td>3.000000</td>\n",
       "      <td>1.000000</td>\n",
       "      <td>2.000000</td>\n",
       "      <td>0.000000</td>\n",
       "      <td>1.000000</td>\n",
       "      <td>1.000000</td>\n",
       "      <td>0.000000</td>\n",
       "      <td>2.000000</td>\n",
       "      <td>...</td>\n",
       "      <td>532.000000</td>\n",
       "      <td>516.800000</td>\n",
       "      <td>1.000000</td>\n",
       "      <td>1.000000</td>\n",
       "      <td>120.000000</td>\n",
       "      <td>120.000000</td>\n",
       "      <td>100.000000</td>\n",
       "      <td>120.000000</td>\n",
       "      <td>80.000000</td>\n",
       "      <td>540.000000</td>\n",
       "    </tr>\n",
       "    <tr>\n",
       "      <th>75%</th>\n",
       "      <td>35.000000</td>\n",
       "      <td>23.000000</td>\n",
       "      <td>3.000000</td>\n",
       "      <td>1.000000</td>\n",
       "      <td>2.000000</td>\n",
       "      <td>3.000000</td>\n",
       "      <td>2.000000</td>\n",
       "      <td>1.000000</td>\n",
       "      <td>0.000000</td>\n",
       "      <td>2.000000</td>\n",
       "      <td>...</td>\n",
       "      <td>579.550000</td>\n",
       "      <td>562.400000</td>\n",
       "      <td>1.000000</td>\n",
       "      <td>1.000000</td>\n",
       "      <td>140.000000</td>\n",
       "      <td>120.000000</td>\n",
       "      <td>120.000000</td>\n",
       "      <td>120.000000</td>\n",
       "      <td>100.000000</td>\n",
       "      <td>600.000000</td>\n",
       "    </tr>\n",
       "    <tr>\n",
       "      <th>max</th>\n",
       "      <td>53.000000</td>\n",
       "      <td>65.000000</td>\n",
       "      <td>5.000000</td>\n",
       "      <td>4.000000</td>\n",
       "      <td>4.000000</td>\n",
       "      <td>10.000000</td>\n",
       "      <td>3.000000</td>\n",
       "      <td>3.000000</td>\n",
       "      <td>1.000000</td>\n",
       "      <td>4.000000</td>\n",
       "      <td>...</td>\n",
       "      <td>773.600000</td>\n",
       "      <td>708.900000</td>\n",
       "      <td>1.000000</td>\n",
       "      <td>9.000000</td>\n",
       "      <td>200.000000</td>\n",
       "      <td>200.000000</td>\n",
       "      <td>200.000000</td>\n",
       "      <td>200.000000</td>\n",
       "      <td>200.000000</td>\n",
       "      <td>980.000000</td>\n",
       "    </tr>\n",
       "  </tbody>\n",
       "</table>\n",
       "<p>8 rows × 32 columns</p>\n",
       "</div>"
      ],
      "text/plain": [
       "       CO_UF_RESIDENCIA     NU_IDADE  TP_COR_RACA  TP_NACIONALIDADE  \\\n",
       "count       4576.000000  4576.000000  4576.000000       4576.000000   \n",
       "mean          30.762019    21.542395     2.181163          1.060970   \n",
       "std            9.912313     6.854073     1.017531          0.281289   \n",
       "min           11.000000    14.000000     0.000000          0.000000   \n",
       "25%           23.000000    17.000000     1.000000          1.000000   \n",
       "50%           31.000000    19.000000     3.000000          1.000000   \n",
       "75%           35.000000    23.000000     3.000000          1.000000   \n",
       "max           53.000000    65.000000     5.000000          4.000000   \n",
       "\n",
       "       TP_ST_CONCLUSAO  TP_ANO_CONCLUIU    TP_ESCOLA    TP_ENSINO  \\\n",
       "count      4576.000000      4576.000000  4576.000000  1480.000000   \n",
       "mean          1.791084         2.119537     1.368663     1.182432   \n",
       "std           0.875692         3.210353     0.568589     0.572495   \n",
       "min           1.000000         0.000000     1.000000     1.000000   \n",
       "25%           1.000000         0.000000     1.000000     1.000000   \n",
       "50%           2.000000         0.000000     1.000000     1.000000   \n",
       "75%           2.000000         3.000000     2.000000     1.000000   \n",
       "max           4.000000        10.000000     3.000000     3.000000   \n",
       "\n",
       "       IN_TREINEIRO  TP_DEPENDENCIA_ADM_ESC  ...   NU_NOTA_CH   NU_NOTA_LC  \\\n",
       "count   4576.000000             1480.000000  ...  3442.000000  3377.000000   \n",
       "mean       0.127404                2.264865  ...   529.195264   514.304205   \n",
       "std        0.333461                0.716922  ...    73.086665    67.725564   \n",
       "min        0.000000                1.000000  ...     0.000000     0.000000   \n",
       "25%        0.000000                2.000000  ...   479.725000   468.400000   \n",
       "50%        0.000000                2.000000  ...   532.000000   516.800000   \n",
       "75%        0.000000                2.000000  ...   579.550000   562.400000   \n",
       "max        1.000000                4.000000  ...   773.600000   708.900000   \n",
       "\n",
       "         TP_LINGUA  TP_STATUS_REDACAO  NU_NOTA_COMP1  NU_NOTA_COMP2  \\\n",
       "count  4576.000000        3377.000000    3377.000000    3377.000000   \n",
       "mean      0.604458           1.095943     119.626888     111.915902   \n",
       "std       0.489020           0.695047      29.028146      33.296849   \n",
       "min       0.000000           1.000000       0.000000       0.000000   \n",
       "25%       0.000000           1.000000     120.000000     100.000000   \n",
       "50%       1.000000           1.000000     120.000000     120.000000   \n",
       "75%       1.000000           1.000000     140.000000     120.000000   \n",
       "max       1.000000           9.000000     200.000000     200.000000   \n",
       "\n",
       "       NU_NOTA_COMP3  NU_NOTA_COMP4  NU_NOTA_COMP5  NU_NOTA_REDACAO  \n",
       "count    3377.000000    3377.000000    3377.000000      3377.000000  \n",
       "mean      106.384365     112.881256      76.683447       527.491857  \n",
       "std        33.834492      33.202244      42.985637       151.979490  \n",
       "min         0.000000       0.000000       0.000000         0.000000  \n",
       "25%        80.000000     100.000000      40.000000       440.000000  \n",
       "50%       100.000000     120.000000      80.000000       540.000000  \n",
       "75%       120.000000     120.000000     100.000000       600.000000  \n",
       "max       200.000000     200.000000     200.000000       980.000000  \n",
       "\n",
       "[8 rows x 32 columns]"
      ]
     },
     "execution_count": 9,
     "metadata": {},
     "output_type": "execute_result"
    }
   ],
   "source": [
    "dadosTeste.describe()"
   ]
  },
  {
   "cell_type": "code",
   "execution_count": 10,
   "metadata": {},
   "outputs": [
    {
     "data": {
      "text/html": [
       "<div>\n",
       "<style scoped>\n",
       "    .dataframe tbody tr th:only-of-type {\n",
       "        vertical-align: middle;\n",
       "    }\n",
       "\n",
       "    .dataframe tbody tr th {\n",
       "        vertical-align: top;\n",
       "    }\n",
       "\n",
       "    .dataframe thead th {\n",
       "        text-align: right;\n",
       "    }\n",
       "</style>\n",
       "<table border=\"1\" class=\"dataframe\">\n",
       "  <thead>\n",
       "    <tr style=\"text-align: right;\">\n",
       "      <th></th>\n",
       "      <th>NumValorMissing</th>\n",
       "      <th>PorcentagemValorMissing(%)</th>\n",
       "    </tr>\n",
       "  </thead>\n",
       "  <tbody>\n",
       "    <tr>\n",
       "      <th>TP_DEPENDENCIA_ADM_ESC</th>\n",
       "      <td>9448</td>\n",
       "      <td>68.81</td>\n",
       "    </tr>\n",
       "    <tr>\n",
       "      <th>TP_ENSINO</th>\n",
       "      <td>9448</td>\n",
       "      <td>68.81</td>\n",
       "    </tr>\n",
       "    <tr>\n",
       "      <th>Q027</th>\n",
       "      <td>7373</td>\n",
       "      <td>53.70</td>\n",
       "    </tr>\n",
       "    <tr>\n",
       "      <th>NU_NOTA_MT</th>\n",
       "      <td>3597</td>\n",
       "      <td>26.20</td>\n",
       "    </tr>\n",
       "    <tr>\n",
       "      <th>NU_NOTA_COMP5</th>\n",
       "      <td>3597</td>\n",
       "      <td>26.20</td>\n",
       "    </tr>\n",
       "    <tr>\n",
       "      <th>NU_NOTA_LC</th>\n",
       "      <td>3597</td>\n",
       "      <td>26.20</td>\n",
       "    </tr>\n",
       "    <tr>\n",
       "      <th>TP_STATUS_REDACAO</th>\n",
       "      <td>3597</td>\n",
       "      <td>26.20</td>\n",
       "    </tr>\n",
       "    <tr>\n",
       "      <th>NU_NOTA_COMP2</th>\n",
       "      <td>3597</td>\n",
       "      <td>26.20</td>\n",
       "    </tr>\n",
       "    <tr>\n",
       "      <th>NU_NOTA_COMP3</th>\n",
       "      <td>3597</td>\n",
       "      <td>26.20</td>\n",
       "    </tr>\n",
       "    <tr>\n",
       "      <th>NU_NOTA_COMP4</th>\n",
       "      <td>3597</td>\n",
       "      <td>26.20</td>\n",
       "    </tr>\n",
       "    <tr>\n",
       "      <th>NU_NOTA_COMP1</th>\n",
       "      <td>3597</td>\n",
       "      <td>26.20</td>\n",
       "    </tr>\n",
       "    <tr>\n",
       "      <th>NU_NOTA_REDACAO</th>\n",
       "      <td>3597</td>\n",
       "      <td>26.20</td>\n",
       "    </tr>\n",
       "    <tr>\n",
       "      <th>NU_NOTA_CH</th>\n",
       "      <td>3389</td>\n",
       "      <td>24.68</td>\n",
       "    </tr>\n",
       "    <tr>\n",
       "      <th>NU_NOTA_CN</th>\n",
       "      <td>3389</td>\n",
       "      <td>24.68</td>\n",
       "    </tr>\n",
       "  </tbody>\n",
       "</table>\n",
       "</div>"
      ],
      "text/plain": [
       "                        NumValorMissing  PorcentagemValorMissing(%)\n",
       "TP_DEPENDENCIA_ADM_ESC             9448                       68.81\n",
       "TP_ENSINO                          9448                       68.81\n",
       "Q027                               7373                       53.70\n",
       "NU_NOTA_MT                         3597                       26.20\n",
       "NU_NOTA_COMP5                      3597                       26.20\n",
       "NU_NOTA_LC                         3597                       26.20\n",
       "TP_STATUS_REDACAO                  3597                       26.20\n",
       "NU_NOTA_COMP2                      3597                       26.20\n",
       "NU_NOTA_COMP3                      3597                       26.20\n",
       "NU_NOTA_COMP4                      3597                       26.20\n",
       "NU_NOTA_COMP1                      3597                       26.20\n",
       "NU_NOTA_REDACAO                    3597                       26.20\n",
       "NU_NOTA_CH                         3389                       24.68\n",
       "NU_NOTA_CN                         3389                       24.68"
      ]
     },
     "execution_count": 10,
     "metadata": {},
     "output_type": "execute_result"
    }
   ],
   "source": [
    "# verificando valores missing\n",
    "dfTemporario = verificaValoresNan(dadosTreino2)\n",
    "\n",
    "# Nesse primeiro caso deletei as colunas com mais de 30% de valores missing\n",
    "colunasMuitoNAn = dfTemporario[dfTemporario[\"PorcentagemValorMissing(%)\"] > 30].index\n",
    "\n",
    "dfTemporario"
   ]
  },
  {
   "cell_type": "code",
   "execution_count": 11,
   "metadata": {},
   "outputs": [
    {
     "data": {
      "text/html": [
       "<div>\n",
       "<style scoped>\n",
       "    .dataframe tbody tr th:only-of-type {\n",
       "        vertical-align: middle;\n",
       "    }\n",
       "\n",
       "    .dataframe tbody tr th {\n",
       "        vertical-align: top;\n",
       "    }\n",
       "\n",
       "    .dataframe thead th {\n",
       "        text-align: right;\n",
       "    }\n",
       "</style>\n",
       "<table border=\"1\" class=\"dataframe\">\n",
       "  <thead>\n",
       "    <tr style=\"text-align: right;\">\n",
       "      <th></th>\n",
       "      <th>NumValorMissing</th>\n",
       "      <th>PorcentagemValorMissing(%)</th>\n",
       "    </tr>\n",
       "  </thead>\n",
       "  <tbody>\n",
       "    <tr>\n",
       "      <th>TP_ENSINO</th>\n",
       "      <td>3096</td>\n",
       "      <td>67.66</td>\n",
       "    </tr>\n",
       "    <tr>\n",
       "      <th>TP_DEPENDENCIA_ADM_ESC</th>\n",
       "      <td>3096</td>\n",
       "      <td>67.66</td>\n",
       "    </tr>\n",
       "    <tr>\n",
       "      <th>Q027</th>\n",
       "      <td>2488</td>\n",
       "      <td>54.37</td>\n",
       "    </tr>\n",
       "    <tr>\n",
       "      <th>TP_STATUS_REDACAO</th>\n",
       "      <td>1199</td>\n",
       "      <td>26.20</td>\n",
       "    </tr>\n",
       "    <tr>\n",
       "      <th>NU_NOTA_COMP4</th>\n",
       "      <td>1199</td>\n",
       "      <td>26.20</td>\n",
       "    </tr>\n",
       "    <tr>\n",
       "      <th>NU_NOTA_LC</th>\n",
       "      <td>1199</td>\n",
       "      <td>26.20</td>\n",
       "    </tr>\n",
       "    <tr>\n",
       "      <th>NU_NOTA_COMP1</th>\n",
       "      <td>1199</td>\n",
       "      <td>26.20</td>\n",
       "    </tr>\n",
       "    <tr>\n",
       "      <th>NU_NOTA_COMP2</th>\n",
       "      <td>1199</td>\n",
       "      <td>26.20</td>\n",
       "    </tr>\n",
       "    <tr>\n",
       "      <th>NU_NOTA_COMP3</th>\n",
       "      <td>1199</td>\n",
       "      <td>26.20</td>\n",
       "    </tr>\n",
       "    <tr>\n",
       "      <th>NU_NOTA_COMP5</th>\n",
       "      <td>1199</td>\n",
       "      <td>26.20</td>\n",
       "    </tr>\n",
       "    <tr>\n",
       "      <th>NU_NOTA_REDACAO</th>\n",
       "      <td>1199</td>\n",
       "      <td>26.20</td>\n",
       "    </tr>\n",
       "    <tr>\n",
       "      <th>NU_NOTA_CH</th>\n",
       "      <td>1134</td>\n",
       "      <td>24.78</td>\n",
       "    </tr>\n",
       "    <tr>\n",
       "      <th>NU_NOTA_CN</th>\n",
       "      <td>1134</td>\n",
       "      <td>24.78</td>\n",
       "    </tr>\n",
       "  </tbody>\n",
       "</table>\n",
       "</div>"
      ],
      "text/plain": [
       "                        NumValorMissing  PorcentagemValorMissing(%)\n",
       "TP_ENSINO                          3096                       67.66\n",
       "TP_DEPENDENCIA_ADM_ESC             3096                       67.66\n",
       "Q027                               2488                       54.37\n",
       "TP_STATUS_REDACAO                  1199                       26.20\n",
       "NU_NOTA_COMP4                      1199                       26.20\n",
       "NU_NOTA_LC                         1199                       26.20\n",
       "NU_NOTA_COMP1                      1199                       26.20\n",
       "NU_NOTA_COMP2                      1199                       26.20\n",
       "NU_NOTA_COMP3                      1199                       26.20\n",
       "NU_NOTA_COMP5                      1199                       26.20\n",
       "NU_NOTA_REDACAO                    1199                       26.20\n",
       "NU_NOTA_CH                         1134                       24.78\n",
       "NU_NOTA_CN                         1134                       24.78"
      ]
     },
     "execution_count": 11,
     "metadata": {},
     "output_type": "execute_result"
    }
   ],
   "source": [
    "# verificando valores missing\n",
    "verificaValoresNan(dadosTeste)"
   ]
  },
  {
   "cell_type": "markdown",
   "metadata": {},
   "source": [
    "### Tratando valores missing"
   ]
  },
  {
   "cell_type": "code",
   "execution_count": 12,
   "metadata": {},
   "outputs": [],
   "source": [
    "dadosTreino2.drop(list(colunasMuitoNAn), axis=1, inplace=True)\n",
    "dadosTeste.drop(list(colunasMuitoNAn), axis=1, inplace=True)"
   ]
  },
  {
   "cell_type": "code",
   "execution_count": 13,
   "metadata": {},
   "outputs": [
    {
     "name": "stdout",
     "output_type": "stream",
     "text": [
      "Dados de treino (13730, 45)\n",
      "Dados de teste (4576, 44)\n"
     ]
    }
   ],
   "source": [
    "print(\"Dados de treino {}\".format(dadosTreino2.shape))\n",
    "print(\"Dados de teste {}\".format(dadosTeste.shape))"
   ]
  },
  {
   "cell_type": "code",
   "execution_count": 14,
   "metadata": {},
   "outputs": [],
   "source": [
    "for coluna in dadosTreino2.columns:\n",
    "    if coluna[0:7] == \"NU_NOTA\":\n",
    "        dadosTreino2[coluna] = dadosTreino2[coluna].fillna(0)\n",
    "        if coluna != \"NU_NOTA_MT\":\n",
    "            dadosTeste[coluna] = dadosTeste[coluna].fillna(0)\n",
    "        \n",
    "dadosTreino2[\"TP_STATUS_REDACAO\"] = dadosTreino2[\"TP_STATUS_REDACAO\"].apply(trataColunaTP_status)\n",
    "dadosTeste[\"TP_STATUS_REDACAO\"] = dadosTeste[\"TP_STATUS_REDACAO\"].apply(trataColunaTP_status)"
   ]
  },
  {
   "cell_type": "code",
   "execution_count": 15,
   "metadata": {},
   "outputs": [
    {
     "data": {
      "text/plain": [
       "NU_NOTA_MT           1.000000\n",
       "NU_NOTA_LC           0.943954\n",
       "TP_PRESENCA_LC       0.923641\n",
       "NU_NOTA_CN           0.907039\n",
       "NU_NOTA_CH           0.903608\n",
       "TP_STATUS_REDACAO    0.893902\n",
       "NU_NOTA_COMP1        0.882746\n",
       "NU_NOTA_REDACAO      0.875929\n",
       "TP_PRESENCA_CH       0.874764\n",
       "TP_PRESENCA_CN       0.874764\n",
       "NU_NOTA_COMP4        0.866827\n",
       "NU_NOTA_COMP2        0.862709\n",
       "NU_NOTA_COMP3        0.854946\n",
       "NU_NOTA_COMP5        0.722275\n",
       "TP_ESCOLA            0.189084\n",
       "IN_TREINEIRO         0.078804\n",
       "TP_ST_CONCLUSAO      0.023736\n",
       "IN_DISCALCULIA       0.008392\n",
       "IN_DISLEXIA          0.005259\n",
       "CO_UF_RESIDENCIA     0.002613\n",
       "IN_SABATISTA        -0.002457\n",
       "IN_SURDEZ           -0.002617\n",
       "IN_BAIXA_VISAO      -0.006546\n",
       "IN_IDOSO            -0.009061\n",
       "IN_GESTANTE         -0.028129\n",
       "TP_NACIONALIDADE    -0.033130\n",
       "TP_COR_RACA         -0.070239\n",
       "TP_LINGUA           -0.111428\n",
       "TP_ANO_CONCLUIU     -0.191553\n",
       "NU_IDADE            -0.240874\n",
       "IN_CEGUEIRA               NaN\n",
       "Name: NU_NOTA_MT, dtype: float64"
      ]
     },
     "execution_count": 15,
     "metadata": {},
     "output_type": "execute_result"
    }
   ],
   "source": [
    "(dadosTreino2.corr()).loc['NU_NOTA_MT', :].sort_values(ascending = False)"
   ]
  },
  {
   "cell_type": "code",
   "execution_count": 16,
   "metadata": {},
   "outputs": [],
   "source": [
    "ID = dadosTeste[\"NU_INSCRICAO\"]\n",
    "colunasSemImp =  [\"CO_PROVA_MT\", \"CO_PROVA_LC\", \"CO_PROVA_CH\", \"CO_PROVA_CN\", \"SG_UF_RESIDENCIA\", \"NU_INSCRICAO\"]\n",
    "\n",
    "dadosTreino3 = dadosTreino2.drop(colunasSemImp, axis = 1)\n",
    "dadosTeste2 = dadosTeste.drop(colunasSemImp, axis = 1)"
   ]
  },
  {
   "cell_type": "code",
   "execution_count": 17,
   "metadata": {},
   "outputs": [
    {
     "name": "stdout",
     "output_type": "stream",
     "text": [
      "Dados de treino (13730, 39)\n",
      "Dados de teste (4576, 38)\n"
     ]
    }
   ],
   "source": [
    "print(\"Dados de treino {}\".format(dadosTreino3.shape))\n",
    "print(\"Dados de teste {}\".format(dadosTeste2.shape))"
   ]
  },
  {
   "cell_type": "code",
   "execution_count": 18,
   "metadata": {},
   "outputs": [],
   "source": [
    "mapping_categoricToNumeric = {\"Q001\": {\"A\": 1, \"B\": 2, \"C\": 3, \"D\": 4, \"E\": 5, \"F\": 6, \"G\": 7, \"H\": 8},\n",
    "                              \"Q002\": {\"A\": 1, \"B\": 2, \"C\": 3, \"D\": 4, \"E\": 5, \"F\": 6, \"G\": 7, \"H\": 8},\n",
    "                              \"Q12\": {\"A\": 1, \"B\": 2, \"C\": 3, \"D\": 4, \"E\": 5, \"F\": 6, \"G\": 7, \"H\": 8},\n",
    "                              \"Q006\": {\"A\": 1, \"B\": 2, \"C\": 3, \"D\": 4, \"E\": 5, \"F\": 6, \"G\": 7, \"H\": 8, \"I\": 9, \"J\": 10, \"K\": 11, \"L\": 12, \"M\": 13, \"N\": 14, \"O\": 15, \"P\": 16, \"Q\": 17},\n",
    "                              \"Q024\": {\"A\": 1, \"B\": 2, \"C\": 3, \"D\": 4, \"E\": 5},\n",
    "                              \"Q025\": {\"A\": 0, \"B\":1},\n",
    "                              \"Q026\": {\"A\": 1, \"B\": 2, \"C\": 3},\n",
    "                              \"Q047\": {\"A\": 1, \"B\": 2, \"C\": 3, \"D\": 4, \"E\": 5},\n",
    "                              \"TP_SEXO\": {\"M\": 0, \"F\": 1}\n",
    "                             }\n",
    "\n",
    "dadosTreino3.replace(mapping_categoricToNumeric, inplace = True)\n",
    "dadosTeste2.replace(mapping_categoricToNumeric, inplace = True)"
   ]
  },
  {
   "cell_type": "markdown",
   "metadata": {},
   "source": [
    "### Feature Selection"
   ]
  },
  {
   "cell_type": "code",
   "execution_count": 19,
   "metadata": {},
   "outputs": [],
   "source": [
    "# Separando os dados\n",
    "X_train, X_test, y_train, y_test = train_test_split(dadosTreino3.drop([\"NU_NOTA_MT\"], axis = 1), \n",
    "                                                    dadosTreino3.NU_NOTA_MT, \n",
    "                                                    test_size=0.30, \n",
    "                                                    random_state=42)"
   ]
  },
  {
   "cell_type": "code",
   "execution_count": 20,
   "metadata": {},
   "outputs": [],
   "source": [
    "# definindo o objeto selectKBest\n",
    "fs = SelectKBest(score_func=f_regression, k=15)\n",
    "\n",
    "# aplicando a feature selection\n",
    "X_selected = fs.fit_transform(X_train, y_train)"
   ]
  },
  {
   "cell_type": "code",
   "execution_count": 21,
   "metadata": {},
   "outputs": [],
   "source": [
    "colunasMaisSignif = list(X_train.iloc[:, fs.get_support()].columns)\n",
    "colunasMaisSignif.append(\"NU_NOTA_MT\")"
   ]
  },
  {
   "cell_type": "markdown",
   "metadata": {},
   "source": [
    "### Tratando as colunas mais relevantes"
   ]
  },
  {
   "cell_type": "code",
   "execution_count": 22,
   "metadata": {},
   "outputs": [
    {
     "data": {
      "image/png": "[encoded data removed]",
      "text/plain": [
       "<Figure size 576x432 with 1 Axes>"
      ]
     },
     "metadata": {
      "needs_background": "light"
     },
     "output_type": "display_data"
    },
    {
     "data": {
      "image/png": "[encoded data removed]",
      "text/plain": [
       "<Figure size 576x432 with 1 Axes>"
      ]
     },
     "metadata": {
      "needs_background": "light"
     },
     "output_type": "display_data"
    },
    {
     "data": {
      "image/png": "[encoded data removed]",
      "text/plain": [
       "<Figure size 576x432 with 1 Axes>"
      ]
     },
     "metadata": {
      "needs_background": "light"
     },
     "output_type": "display_data"
    },
    {
     "data": {
      "image/png": "[encoded data removed]",
      "text/plain": [
       "<Figure size 576x432 with 1 Axes>"
      ]
     },
     "metadata": {
      "needs_background": "light"
     },
     "output_type": "display_data"
    },
    {
     "data": {
      "image/png": "[encoded data removed]",
      "text/plain": [
       "<Figure size 576x432 with 1 Axes>"
      ]
     },
     "metadata": {
      "needs_background": "light"
     },
     "output_type": "display_data"
    },
    {
     "data": {
      "image/png": "[encoded data removed]",
      "text/plain": [
       "<Figure size 576x432 with 1 Axes>"
      ]
     },
     "metadata": {
      "needs_background": "light"
     },
     "output_type": "display_data"
    },
    {
     "data": {
      "image/png": "[encoded data removed]",
      "text/plain": [
       "<Figure size 576x432 with 1 Axes>"
      ]
     },
     "metadata": {
      "needs_background": "light"
     },
     "output_type": "display_data"
    },
    {
     "data": {
      "image/png": "[encoded data removed]",
      "text/plain": [
       "<Figure size 576x432 with 1 Axes>"
      ]
     },
     "metadata": {
      "needs_background": "light"
     },
     "output_type": "display_data"
    },
    {
     "data": {
      "image/png": "[encoded data removed]",
      "text/plain": [
       "<Figure size 576x432 with 1 Axes>"
      ]
     },
     "metadata": {
      "needs_background": "light"
     },
     "output_type": "display_data"
    },
    {
     "data": {
      "image/png": "[encoded data removed]",
      "text/plain": [
       "<Figure size 576x432 with 1 Axes>"
      ]
     },
     "metadata": {
      "needs_background": "light"
     },
     "output_type": "display_data"
    },
    {
     "data": {
      "image/png": "[encoded data removed]",
      "text/plain": [
       "<Figure size 576x432 with 1 Axes>"
      ]
     },
     "metadata": {
      "needs_background": "light"
     },
     "output_type": "display_data"
    },
    {
     "data": {
      "image/png": "[encoded data removed]",
      "text/plain": [
       "<Figure size 576x432 with 1 Axes>"
      ]
     },
     "metadata": {
      "needs_background": "light"
     },
     "output_type": "display_data"
    },
    {
     "data": {
      "image/png": "[encoded data removed]",
      "text/plain": [
       "<Figure size 576x432 with 1 Axes>"
      ]
     },
     "metadata": {
      "needs_background": "light"
     },
     "output_type": "display_data"
    },
    {
     "data": {
      "image/png": "[encoded data removed]",
      "text/plain": [
       "<Figure size 576x432 with 1 Axes>"
      ]
     },
     "metadata": {
      "needs_background": "light"
     },
     "output_type": "display_data"
    },
    {
     "data": {
      "image/png": "[encoded data removed]",
      "text/plain": [
       "<Figure size 576x432 with 1 Axes>"
      ]
     },
     "metadata": {
      "needs_background": "light"
     },
     "output_type": "display_data"
    },
    {
     "data": {
      "image/png": "[encoded data removed]",
      "text/plain": [
       "<Figure size 576x432 with 1 Axes>"
      ]
     },
     "metadata": {
      "needs_background": "light"
     },
     "output_type": "display_data"
    }
   ],
   "source": [
    "for coluna in colunasMaisSignif:\n",
    "    plt.figure(figsize=(8, 6))\n",
    "    plt.title(coluna)\n",
    "    plt.boxplot(dadosTreino3[coluna])\n",
    "    plt.show()"
   ]
  },
  {
   "cell_type": "code",
   "execution_count": 23,
   "metadata": {},
   "outputs": [],
   "source": [
    "# Tratando alguns outliers \n",
    "dadosTreino3[\"NU_NOTA_CN\"] = dadosTreino3[\"NU_NOTA_CN\"].apply(lambda x: 700 if x > 700 else x)"
   ]
  },
  {
   "cell_type": "code",
   "execution_count": 24,
   "metadata": {},
   "outputs": [],
   "source": [
    "# Transformando a variável NU_IDADE em binária. \n",
    "dadosTreino3[\"NU_IDADE\"] = dadosTreino3[\"NU_IDADE\"].apply(binarizeIdade)\n",
    "dadosTeste2[\"NU_IDADE\"] = dadosTeste2[\"NU_IDADE\"].apply(binarizeIdade)\n",
    "\n",
    "# Transformando a variável Q047 em binária. \n",
    "dadosTreino3[\"Q047\"] = dadosTreino3[\"Q047\"].apply(lambda x: 1 if x == 1 else 0)\n",
    "dadosTeste2[\"Q047\"] = dadosTeste2[\"Q047\"].apply(lambda x: 1 if x == 1 else 0)"
   ]
  },
  {
   "cell_type": "markdown",
   "metadata": {},
   "source": [
    "### Padronizando os Dados"
   ]
  },
  {
   "cell_type": "code",
   "execution_count": 25,
   "metadata": {},
   "outputs": [],
   "source": [
    "colunasFloat = dadosTreino3[colunasMaisSignif].select_dtypes([\"float\"]).columns\n",
    "colunasFloat = colunasFloat[0: -1]\n",
    "\n",
    "# padronizando dados de treino\n",
    "transformerTreino = RobustScaler()\n",
    "dadosPadronizadosTreino = transformerTreino.fit_transform(dadosTreino3[colunasFloat])\n",
    "dfTemptreino = pd.DataFrame(dadosPadronizadosTreino, columns=colunasFloat)\n",
    "\n",
    "# padronizando dados de teste\n",
    "transformerTeste = RobustScaler()\n",
    "dadosPadronizadosTeste = transformerTeste.fit_transform(dadosTeste2[colunasFloat])\n",
    "dfTempTeste = pd.DataFrame(dadosPadronizadosTeste, columns=colunasFloat)"
   ]
  },
  {
   "cell_type": "code",
   "execution_count": 26,
   "metadata": {},
   "outputs": [],
   "source": [
    "for col in colunasFloat:\n",
    "    dadosTreino3[col] = dfTemptreino[col]\n",
    "    if col != \"NU_NOTA_MT\":\n",
    "        dadosTeste2[col] = dfTempTeste[col]  "
   ]
  },
  {
   "cell_type": "code",
   "execution_count": 27,
   "metadata": {},
   "outputs": [
    {
     "name": "stdout",
     "output_type": "stream",
     "text": [
      "<class 'pandas.core.frame.DataFrame'>\n",
      "RangeIndex: 13730 entries, 0 to 13729\n",
      "Data columns (total 16 columns):\n",
      "NU_IDADE             13730 non-null int64\n",
      "TP_PRESENCA_CN       13730 non-null int64\n",
      "TP_PRESENCA_CH       13730 non-null int64\n",
      "TP_PRESENCA_LC       13730 non-null int64\n",
      "NU_NOTA_CN           13730 non-null float64\n",
      "NU_NOTA_CH           13730 non-null float64\n",
      "NU_NOTA_LC           13730 non-null float64\n",
      "TP_STATUS_REDACAO    13730 non-null int64\n",
      "NU_NOTA_COMP1        13730 non-null float64\n",
      "NU_NOTA_COMP2        13730 non-null float64\n",
      "NU_NOTA_COMP3        13730 non-null float64\n",
      "NU_NOTA_COMP4        13730 non-null float64\n",
      "NU_NOTA_COMP5        13730 non-null float64\n",
      "NU_NOTA_REDACAO      13730 non-null float64\n",
      "Q047                 13730 non-null int64\n",
      "NU_NOTA_MT           13730 non-null float64\n",
      "dtypes: float64(10), int64(6)\n",
      "memory usage: 1.7 MB\n"
     ]
    }
   ],
   "source": [
    "dadosTreino3[colunasMaisSignif].info()"
   ]
  },
  {
   "cell_type": "markdown",
   "metadata": {},
   "source": [
    "### Criando o Modelo de machine Learning"
   ]
  },
  {
   "cell_type": "code",
   "execution_count": 28,
   "metadata": {},
   "outputs": [],
   "source": [
    "X_train, X_test, y_train, y_test = train_test_split(dadosTreino3.drop([\"NU_NOTA_MT\"], axis = 1), \n",
    "                                                    dadosTreino3.NU_NOTA_MT, \n",
    "                                                    test_size=0.30, \n",
    "                                                    random_state=42)"
   ]
  },
  {
   "cell_type": "code",
   "execution_count": 29,
   "metadata": {},
   "outputs": [],
   "source": [
    "model_NeuralNet = MLPRegressor(hidden_layer_sizes=(200, 10), \n",
    "                               random_state=101)\n",
    "\n",
    "model_NeuralNet.fit(X_train, y_train)\n",
    "\n",
    "predict_NeuralNet = model_NeuralNet.predict(X_test)"
   ]
  },
  {
   "cell_type": "markdown",
   "metadata": {},
   "source": [
    "### Avaliando o Modelo"
   ]
  },
  {
   "cell_type": "code",
   "execution_count": 30,
   "metadata": {},
   "outputs": [
    {
     "name": "stdout",
     "output_type": "stream",
     "text": [
      "R² = 0.9265910740472891\n"
     ]
    }
   ],
   "source": [
    "# R score mostra o quanto os dados \n",
    "\n",
    "print(\"R² = {}\".format(r2_score(y_test, predict_NeuralNet)))"
   ]
  },
  {
   "cell_type": "code",
   "execution_count": 31,
   "metadata": {},
   "outputs": [
    {
     "data": {
      "image/png": "[encoded data removed]",
      "text/plain": [
       "<Figure size 720x432 with 1 Axes>"
      ]
     },
     "metadata": {
      "needs_background": "light"
     },
     "output_type": "display_data"
    }
   ],
   "source": [
    "plt.figure(figsize=(10, 6))\n",
    "plt.title(\"ResidPlot (Real X Previsto)\")\n",
    "residplot(x = 'Real', \n",
    "          y = 'Previsto',\n",
    "          data=pd.DataFrame({\"Real\": y_test, \n",
    "                             \"Previsto\": predict_NeuralNet}))\n",
    "\n",
    "plt.show()"
   ]
  },
  {
   "cell_type": "code",
   "execution_count": 32,
   "metadata": {},
   "outputs": [
    {
     "data": {
      "image/png": "[encoded data removed]",
      "text/plain": [
       "<Figure size 720x432 with 1 Axes>"
      ]
     },
     "metadata": {
      "needs_background": "light"
     },
     "output_type": "display_data"
    }
   ],
   "source": [
    "plt.figure(figsize=(10, 6))\n",
    "plt.title(\"Residuo\")\n",
    "plt.hist(abs(y_test - predict_NeuralNet), bins=10)\n",
    "plt.show()"
   ]
  },
  {
   "cell_type": "markdown",
   "metadata": {},
   "source": [
    "### Apicando o modelo em teste"
   ]
  },
  {
   "cell_type": "code",
   "execution_count": 33,
   "metadata": {},
   "outputs": [],
   "source": [
    "for indice in range(0, len(dadosTeste2.columns)):\n",
    "    if ((list(X_train.columns))[indice] != (list(dadosTeste2.columns))[indice]):\n",
    "        raise Exception(\"Erro no modelo\")"
   ]
  },
  {
   "cell_type": "code",
   "execution_count": 34,
   "metadata": {},
   "outputs": [
    {
     "data": {
      "text/html": [
       "<div>\n",
       "<style scoped>\n",
       "    .dataframe tbody tr th:only-of-type {\n",
       "        vertical-align: middle;\n",
       "    }\n",
       "\n",
       "    .dataframe tbody tr th {\n",
       "        vertical-align: top;\n",
       "    }\n",
       "\n",
       "    .dataframe thead th {\n",
       "        text-align: right;\n",
       "    }\n",
       "</style>\n",
       "<table border=\"1\" class=\"dataframe\">\n",
       "  <thead>\n",
       "    <tr style=\"text-align: right;\">\n",
       "      <th></th>\n",
       "      <th>NU_INSCRICAO</th>\n",
       "      <th>NU_NOTA_MT</th>\n",
       "    </tr>\n",
       "  </thead>\n",
       "  <tbody>\n",
       "    <tr>\n",
       "      <th>0</th>\n",
       "      <td>73ff9fcc02f0a99919906c942c2e1a1042cdcf98</td>\n",
       "      <td>415.098599</td>\n",
       "    </tr>\n",
       "    <tr>\n",
       "      <th>1</th>\n",
       "      <td>71a95f9f1b91a82c65ad94abbdf9f54e6066f968</td>\n",
       "      <td>441.303231</td>\n",
       "    </tr>\n",
       "    <tr>\n",
       "      <th>2</th>\n",
       "      <td>b38a03232f43b11c9d0788abaf060f7366053b6d</td>\n",
       "      <td>592.914360</td>\n",
       "    </tr>\n",
       "    <tr>\n",
       "      <th>3</th>\n",
       "      <td>70b682d9a3636be23f6120fa9d6b164eb3c6002d</td>\n",
       "      <td>-7.119351</td>\n",
       "    </tr>\n",
       "    <tr>\n",
       "      <th>4</th>\n",
       "      <td>715494628a50142ce8cb17191cfe6d0f3cae0934</td>\n",
       "      <td>556.494804</td>\n",
       "    </tr>\n",
       "  </tbody>\n",
       "</table>\n",
       "</div>"
      ],
      "text/plain": [
       "                               NU_INSCRICAO  NU_NOTA_MT\n",
       "0  73ff9fcc02f0a99919906c942c2e1a1042cdcf98  415.098599\n",
       "1  71a95f9f1b91a82c65ad94abbdf9f54e6066f968  441.303231\n",
       "2  b38a03232f43b11c9d0788abaf060f7366053b6d  592.914360\n",
       "3  70b682d9a3636be23f6120fa9d6b164eb3c6002d   -7.119351\n",
       "4  715494628a50142ce8cb17191cfe6d0f3cae0934  556.494804"
      ]
     },
     "execution_count": 34,
     "metadata": {},
     "output_type": "execute_result"
    }
   ],
   "source": [
    "predict = model_NeuralNet.predict(dadosTeste2)\n",
    "\n",
    "resultado = pd.DataFrame({'NU_INSCRICAO': ID,\n",
    "                          'NU_NOTA_MT': predict})\n",
    "\n",
    "resultado.head()"
   ]
  },
  {
   "cell_type": "code",
   "execution_count": 35,
   "metadata": {},
   "outputs": [],
   "source": [
    "# Tratando valores negativos \n",
    "resultado.NU_NOTA_MT = resultado.NU_NOTA_MT.apply(lambda x: 0 if x < 0 else x)"
   ]
  },
  {
   "cell_type": "code",
   "execution_count": 36,
   "metadata": {},
   "outputs": [
    {
     "data": {
      "text/plain": [
       "(4576, 2)"
      ]
     },
     "execution_count": 36,
     "metadata": {},
     "output_type": "execute_result"
    }
   ],
   "source": [
    "resultado.shape"
   ]
  },
  {
   "cell_type": "code",
   "execution_count": 37,
   "metadata": {},
   "outputs": [],
   "source": [
    "resultado.to_csv(path_or_buf = \"./answer.csv\", index = False)"
   ]
  },
  {
   "cell_type": "markdown",
   "metadata": {},
   "source": [
    "### FIM"
   ]
  }
 ],
 "metadata": {
  "kernelspec": {
   "display_name": "Python 3",
   "language": "python",
   "name": "python3"
  },
  "language_info": {
   "codemirror_mode": {
    "name": "ipython",
    "version": 3
   },
   "file_extension": ".py",
   "mimetype": "text/x-python",
   "name": "python",
   "nbconvert_exporter": "python",
   "pygments_lexer": "ipython3",
   "version": "3.7.3"
  }
 },
 "nbformat": 4,
 "nbformat_minor": 2
}
